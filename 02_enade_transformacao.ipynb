{
 "cells": [
  {
   "cell_type": "markdown",
   "metadata": {},
   "source": [
    "# Transformação de Dados"
   ]
  },
  {
   "cell_type": "code",
   "execution_count": 30,
   "metadata": {},
   "outputs": [],
   "source": [
    "import pandas as pd\n",
    "import numpy as np\n",
    "import os"
   ]
  },
  {
   "cell_type": "code",
   "execution_count": 31,
   "metadata": {},
   "outputs": [],
   "source": [
    "#ler o arquivo \n",
    "enade = pd.read_csv(\n",
    "    './enade2019/microdados_enade_2019/2019/3.DADOS/microdados_enade_2019.txt',\n",
    "    sep=';',\n",
    "    decimal=','\n",
    ")"
   ]
  },
  {
   "cell_type": "code",
   "execution_count": 32,
   "metadata": {},
   "outputs": [
    {
     "data": {
      "text/html": [
       "<div>\n",
       "<style scoped>\n",
       "    .dataframe tbody tr th:only-of-type {\n",
       "        vertical-align: middle;\n",
       "    }\n",
       "\n",
       "    .dataframe tbody tr th {\n",
       "        vertical-align: top;\n",
       "    }\n",
       "\n",
       "    .dataframe thead th {\n",
       "        text-align: right;\n",
       "    }\n",
       "</style>\n",
       "<table border=\"1\" class=\"dataframe\">\n",
       "  <thead>\n",
       "    <tr style=\"text-align: right;\">\n",
       "      <th></th>\n",
       "      <th>NU_ANO</th>\n",
       "      <th>CO_IES</th>\n",
       "      <th>CO_CATEGAD</th>\n",
       "      <th>CO_ORGACAD</th>\n",
       "      <th>CO_GRUPO</th>\n",
       "      <th>CO_CURSO</th>\n",
       "      <th>CO_MODALIDADE</th>\n",
       "      <th>CO_MUNIC_CURSO</th>\n",
       "      <th>CO_UF_CURSO</th>\n",
       "      <th>CO_REGIAO_CURSO</th>\n",
       "      <th>...</th>\n",
       "      <th>QE_I59</th>\n",
       "      <th>QE_I60</th>\n",
       "      <th>QE_I61</th>\n",
       "      <th>QE_I62</th>\n",
       "      <th>QE_I63</th>\n",
       "      <th>QE_I64</th>\n",
       "      <th>QE_I65</th>\n",
       "      <th>QE_I66</th>\n",
       "      <th>QE_I67</th>\n",
       "      <th>QE_I68</th>\n",
       "    </tr>\n",
       "  </thead>\n",
       "  <tbody>\n",
       "    <tr>\n",
       "      <th>0</th>\n",
       "      <td>2019</td>\n",
       "      <td>1</td>\n",
       "      <td>10002</td>\n",
       "      <td>10028</td>\n",
       "      <td>5710</td>\n",
       "      <td>3</td>\n",
       "      <td>1</td>\n",
       "      <td>5103403</td>\n",
       "      <td>51</td>\n",
       "      <td>5</td>\n",
       "      <td>...</td>\n",
       "      <td>2.0</td>\n",
       "      <td>5.0</td>\n",
       "      <td>1.0</td>\n",
       "      <td>1.0</td>\n",
       "      <td>2.0</td>\n",
       "      <td>5.0</td>\n",
       "      <td>8.0</td>\n",
       "      <td>7.0</td>\n",
       "      <td>1.0</td>\n",
       "      <td>2.0</td>\n",
       "    </tr>\n",
       "    <tr>\n",
       "      <th>1</th>\n",
       "      <td>2019</td>\n",
       "      <td>1</td>\n",
       "      <td>10002</td>\n",
       "      <td>10028</td>\n",
       "      <td>5710</td>\n",
       "      <td>3</td>\n",
       "      <td>1</td>\n",
       "      <td>5103403</td>\n",
       "      <td>51</td>\n",
       "      <td>5</td>\n",
       "      <td>...</td>\n",
       "      <td>1.0</td>\n",
       "      <td>4.0</td>\n",
       "      <td>2.0</td>\n",
       "      <td>2.0</td>\n",
       "      <td>2.0</td>\n",
       "      <td>5.0</td>\n",
       "      <td>4.0</td>\n",
       "      <td>4.0</td>\n",
       "      <td>2.0</td>\n",
       "      <td>2.0</td>\n",
       "    </tr>\n",
       "    <tr>\n",
       "      <th>2</th>\n",
       "      <td>2019</td>\n",
       "      <td>1</td>\n",
       "      <td>10002</td>\n",
       "      <td>10028</td>\n",
       "      <td>5710</td>\n",
       "      <td>3</td>\n",
       "      <td>1</td>\n",
       "      <td>5103403</td>\n",
       "      <td>51</td>\n",
       "      <td>5</td>\n",
       "      <td>...</td>\n",
       "      <td>3.0</td>\n",
       "      <td>4.0</td>\n",
       "      <td>4.0</td>\n",
       "      <td>3.0</td>\n",
       "      <td>3.0</td>\n",
       "      <td>4.0</td>\n",
       "      <td>1.0</td>\n",
       "      <td>1.0</td>\n",
       "      <td>1.0</td>\n",
       "      <td>4.0</td>\n",
       "    </tr>\n",
       "    <tr>\n",
       "      <th>3</th>\n",
       "      <td>2019</td>\n",
       "      <td>1</td>\n",
       "      <td>10002</td>\n",
       "      <td>10028</td>\n",
       "      <td>5710</td>\n",
       "      <td>3</td>\n",
       "      <td>1</td>\n",
       "      <td>5103403</td>\n",
       "      <td>51</td>\n",
       "      <td>5</td>\n",
       "      <td>...</td>\n",
       "      <td>3.0</td>\n",
       "      <td>5.0</td>\n",
       "      <td>2.0</td>\n",
       "      <td>2.0</td>\n",
       "      <td>2.0</td>\n",
       "      <td>3.0</td>\n",
       "      <td>3.0</td>\n",
       "      <td>4.0</td>\n",
       "      <td>3.0</td>\n",
       "      <td>3.0</td>\n",
       "    </tr>\n",
       "    <tr>\n",
       "      <th>4</th>\n",
       "      <td>2019</td>\n",
       "      <td>1</td>\n",
       "      <td>10002</td>\n",
       "      <td>10028</td>\n",
       "      <td>5710</td>\n",
       "      <td>3</td>\n",
       "      <td>1</td>\n",
       "      <td>5103403</td>\n",
       "      <td>51</td>\n",
       "      <td>5</td>\n",
       "      <td>...</td>\n",
       "      <td>NaN</td>\n",
       "      <td>NaN</td>\n",
       "      <td>NaN</td>\n",
       "      <td>NaN</td>\n",
       "      <td>NaN</td>\n",
       "      <td>NaN</td>\n",
       "      <td>NaN</td>\n",
       "      <td>NaN</td>\n",
       "      <td>NaN</td>\n",
       "      <td>NaN</td>\n",
       "    </tr>\n",
       "  </tbody>\n",
       "</table>\n",
       "<p>5 rows × 137 columns</p>\n",
       "</div>"
      ],
      "text/plain": [
       "   NU_ANO  CO_IES  CO_CATEGAD  CO_ORGACAD  CO_GRUPO  CO_CURSO  CO_MODALIDADE  \\\n",
       "0    2019       1       10002       10028      5710         3              1   \n",
       "1    2019       1       10002       10028      5710         3              1   \n",
       "2    2019       1       10002       10028      5710         3              1   \n",
       "3    2019       1       10002       10028      5710         3              1   \n",
       "4    2019       1       10002       10028      5710         3              1   \n",
       "\n",
       "   CO_MUNIC_CURSO  CO_UF_CURSO  CO_REGIAO_CURSO  ...  QE_I59 QE_I60  QE_I61  \\\n",
       "0         5103403           51                5  ...     2.0    5.0     1.0   \n",
       "1         5103403           51                5  ...     1.0    4.0     2.0   \n",
       "2         5103403           51                5  ...     3.0    4.0     4.0   \n",
       "3         5103403           51                5  ...     3.0    5.0     2.0   \n",
       "4         5103403           51                5  ...     NaN    NaN     NaN   \n",
       "\n",
       "   QE_I62  QE_I63  QE_I64  QE_I65  QE_I66  QE_I67  QE_I68  \n",
       "0     1.0     2.0     5.0     8.0     7.0     1.0     2.0  \n",
       "1     2.0     2.0     5.0     4.0     4.0     2.0     2.0  \n",
       "2     3.0     3.0     4.0     1.0     1.0     1.0     4.0  \n",
       "3     2.0     2.0     3.0     3.0     4.0     3.0     3.0  \n",
       "4     NaN     NaN     NaN     NaN     NaN     NaN     NaN  \n",
       "\n",
       "[5 rows x 137 columns]"
      ]
     },
     "execution_count": 32,
     "metadata": {},
     "output_type": "execute_result"
    }
   ],
   "source": [
    "# verificar se carregou\n",
    "enade.head()"
   ]
  },
  {
   "cell_type": "markdown",
   "metadata": {},
   "source": [
    "# Verificar a base de dados para iniciar tratamento"
   ]
  },
  {
   "cell_type": "code",
   "execution_count": 33,
   "metadata": {},
   "outputs": [
    {
     "data": {
      "text/plain": [
       "(433930, 137)"
      ]
     },
     "execution_count": 33,
     "metadata": {},
     "output_type": "execute_result"
    }
   ],
   "source": [
    "# Contar a quantidade de registros e colunas\n",
    "enade.shape"
   ]
  },
  {
   "cell_type": "code",
   "execution_count": 34,
   "metadata": {},
   "outputs": [
    {
     "data": {
      "text/plain": [
       "43839"
      ]
     },
     "execution_count": 34,
     "metadata": {},
     "output_type": "execute_result"
    }
   ],
   "source": [
    "# Contar o Nr de nulls no campo de nota\n",
    "enade.NT_GER.isnull().sum()"
   ]
  },
  {
   "cell_type": "code",
   "execution_count": 35,
   "metadata": {},
   "outputs": [
    {
     "name": "stdout",
     "output_type": "stream",
     "text": [
      "10.10%\n"
     ]
    }
   ],
   "source": [
    "# Qtd relativa de nulls(%) na nota geral\n",
    "print('{:.2%}'.format(enade.NT_GER.isnull().sum() / enade.shape[0]))"
   ]
  },
  {
   "cell_type": "markdown",
   "metadata": {},
   "source": [
    "# Transformações\n",
    "## Transformar campos com valores numéricos para campos descritivos (Dimensões)"
   ]
  },
  {
   "cell_type": "code",
   "execution_count": 36,
   "metadata": {},
   "outputs": [],
   "source": [
    "# Criar campo de instituição Publica/Privada\n",
    "enade['DESC_PUBLICA'] = \"\""
   ]
  },
  {
   "cell_type": "code",
   "execution_count": 37,
   "metadata": {},
   "outputs": [],
   "source": [
    "# Trocar os registros\n",
    "enade.loc[enade.CO_CATEGAD.isin([118,120,121,10005,10006,10007,10008,10009,17634]),'DESC_PUBLICA'] = 'Privado'\n",
    "enade.loc[enade.CO_CATEGAD.isin([93,115,116,10001,10002,10003]),'DESC_PUBLICA'] = 'Publico'"
   ]
  },
  {
   "cell_type": "code",
   "execution_count": 38,
   "metadata": {},
   "outputs": [
    {
     "data": {
      "text/plain": [
       "Privado    332879\n",
       "Publico    101051\n",
       "Name: DESC_PUBLICA, dtype: int64"
      ]
     },
     "execution_count": 38,
     "metadata": {},
     "output_type": "execute_result"
    }
   ],
   "source": [
    "# Conferência\n",
    "enade.DESC_PUBLICA.value_counts()"
   ]
  },
  {
   "cell_type": "code",
   "execution_count": 39,
   "metadata": {},
   "outputs": [],
   "source": [
    "# Transformar modalidade\n",
    "enade.CO_MODALIDADE = enade.CO_MODALIDADE.replace({\n",
    "    0:'EaD',\n",
    "    1:'Presencial'\n",
    "})"
   ]
  },
  {
   "cell_type": "code",
   "execution_count": 40,
   "metadata": {},
   "outputs": [
    {
     "data": {
      "text/plain": [
       "Presencial    410542\n",
       "EaD            23388\n",
       "Name: CO_MODALIDADE, dtype: int64"
      ]
     },
     "execution_count": 40,
     "metadata": {},
     "output_type": "execute_result"
    }
   ],
   "source": [
    "enade.CO_MODALIDADE.value_counts()"
   ]
  },
  {
   "cell_type": "code",
   "execution_count": 41,
   "metadata": {},
   "outputs": [],
   "source": [
    "#Transformar REGIAO\n",
    "enade['CO_REGIAO_CURSO'] = enade.CO_REGIAO_CURSO.replace({\n",
    "    1:'Norte',\n",
    "    2:'Nordeste',\n",
    "    3:'Sudeste',\n",
    "    4:'Sul',\n",
    "    5:'Centro-Oeste'\n",
    "})"
   ]
  },
  {
   "cell_type": "code",
   "execution_count": 42,
   "metadata": {},
   "outputs": [
    {
     "data": {
      "text/plain": [
       "Sudeste         202505\n",
       "Nordeste         91742\n",
       "Sul              76788\n",
       "Centro-Oeste     34192\n",
       "Norte            28703\n",
       "Name: CO_REGIAO_CURSO, dtype: int64"
      ]
     },
     "execution_count": 42,
     "metadata": {},
     "output_type": "execute_result"
    }
   ],
   "source": [
    "enade['CO_REGIAO_CURSO'].value_counts()"
   ]
  },
  {
   "cell_type": "code",
   "execution_count": 43,
   "metadata": {},
   "outputs": [],
   "source": [
    "#Cor ou raça\n",
    "enade['DESC_COR'] = enade.QE_I02.replace({\n",
    "    'A':'Branca',\n",
    "    'B':'Preta',\n",
    "    'C':'Amarela',\n",
    "    'D':'Parda',\n",
    "    'E':'Indigena',\n",
    "    'F':'Não Informado',\n",
    "    ' ':'Não Informado'\n",
    "})"
   ]
  },
  {
   "cell_type": "code",
   "execution_count": 44,
   "metadata": {},
   "outputs": [
    {
     "data": {
      "text/plain": [
       "Branca           220386\n",
       "Parda            135770\n",
       "Não Informado     33512\n",
       "Preta             32869\n",
       "Amarela           10093\n",
       "Indigena           1300\n",
       "Name: DESC_COR, dtype: int64"
      ]
     },
     "execution_count": 44,
     "metadata": {},
     "output_type": "execute_result"
    }
   ],
   "source": [
    "enade.DESC_COR.value_counts()"
   ]
  },
  {
   "cell_type": "code",
   "execution_count": 45,
   "metadata": {},
   "outputs": [],
   "source": [
    "# Transformar Grupo\n",
    "enade['DESC_GRUPO'] = enade.CO_GRUPO.replace({\n",
    "    5    : 'MEDICINA VETERINÁRIA',\n",
    "    6    : 'ODONTOLOGIA',\n",
    "    12   : 'MEDICINA',\n",
    "    17   : 'AGRONOMIA',\n",
    "    19   : 'FARMÁCIA',\n",
    "    21   : 'ARQUITETURA E URBANISMO',\n",
    "    23   : 'ENFERMAGEM',\n",
    "    27   : 'FONOAUDIOLOGIA',\n",
    "    28   : 'NUTRIÇÃO',\n",
    "    36   : 'FISIOTERAPIA',\n",
    "    51   : 'ZOOTECNIA',\n",
    "    55   : 'BIOMEDICINA',\n",
    "    69   : 'TECNOLOGIA EM RADIOLOGIA',\n",
    "    90   : 'TECNOLOGIA EM AGRONEGÓCIOS',\n",
    "    91   : 'TECNOLOGIA EM GESTÃO HOSPITALAR',\n",
    "    92   : 'TECNOLOGIA EM GESTÃO AMBIENTAL',\n",
    "    95   : 'TECNOLOGIA EM ESTÉTICA E COSMÉTICA',\n",
    "    3501 : 'EDUCAÇÃO FÍSICA (BACHARELADO)',\n",
    "    4003 : 'ENGENHARIA DA COMPUTAÇÃO',\n",
    "    5710 : 'ENGENHARIA CIVIL',\n",
    "    5806 : 'ENGENHARIA ELÉTRICA',\n",
    "    5814 : 'ENGENHARIA DE CONTROLE E AUTOMAÇÃO',\n",
    "    5902 : 'ENGENHARIA MECÂNICA',\n",
    "    6002 : 'ENGENHARIA DE ALIMENTOS',\n",
    "    6008 : 'ENGENHARIA QUÍMICA',\n",
    "    6208 : 'ENGENHARIA DE PRODUÇÃO',\n",
    "    6307 : 'ENGENHARIA AMBIENTAL',\n",
    "    6405 : 'ENGENHARIA FLORESTAL',\n",
    "    6410 : 'TECNOLOGIA EM SEGURANÇA NO TRABALHO'\n",
    "\n",
    "})"
   ]
  },
  {
   "cell_type": "code",
   "execution_count": 46,
   "metadata": {},
   "outputs": [],
   "source": [
    "enade['DESC_UF'] = enade.CO_UF_CURSO.replace({\n",
    "    11 : 'Rondônia (RO)',\n",
    "    12 : 'Acre (AC)',\n",
    "    13 : 'Amazonas (AM)',\n",
    "    14 : 'Roraima (RR)',\n",
    "    15 : 'Pará (PA)',\n",
    "    16 : 'Amapa (AP)',\n",
    "    17 : 'Tocantins (TO)',\n",
    "    21 : 'Maranhão (MA)',\n",
    "    22 : 'Piauí (PI)',\n",
    "    23 : 'Ceará (CE)',\n",
    "    24 : 'Rio Grande do Norte (RN)',\n",
    "    25 : 'Paraíba (PB)',\n",
    "    26 : 'Pernambuco (PE)',\n",
    "    27 : 'Alagoas (AL)',\n",
    "    28 : 'Sergipe (SE)',\n",
    "    29 : 'Bahia (BA)',\n",
    "    31 : 'Minas gerais (MG)',\n",
    "    32 : 'Espírito Santo (ES)',\n",
    "    33 : 'Rio de Janeiro (RJ)',\n",
    "    35 : 'São Paulo (SP)',\n",
    "    41 : 'Paraná (PR)',\n",
    "    42 : 'Santa Catarina (SC)',\n",
    "    43 : 'Rio Grande do Sul (RS)',\n",
    "    50 : 'Mato Grosso do Sul (MS)',\n",
    "    51 : 'Mato Grosso (MT)',\n",
    "    52 : 'Goiás (GO)',\n",
    "    53 : 'Distrito federal (DF)'\n",
    "})"
   ]
  },
  {
   "cell_type": "code",
   "execution_count": 47,
   "metadata": {},
   "outputs": [
    {
     "data": {
      "text/plain": [
       "São Paulo (SP)              105763\n",
       "Minas gerais (MG)            53656\n",
       "Rio de Janeiro (RJ)          36815\n",
       "Paraná (PR)                  30657\n",
       "Santa Catarina (SC)          23258\n",
       "Rio Grande do Sul (RS)       22873\n",
       "Bahia (BA)                   19973\n",
       "Pernambuco (PE)              15479\n",
       "Ceará (CE)                   15145\n",
       "Goiás (GO)                   12818\n",
       "Paraíba (PB)                 10384\n",
       "Distrito federal (DF)        10069\n",
       "Pará (PA)                     9035\n",
       "Amazonas (AM)                 8147\n",
       "Maranhão (MA)                 8022\n",
       "Piauí (PI)                    6583\n",
       "Rio Grande do Norte (RN)      6552\n",
       "Mato Grosso (MT)              6348\n",
       "Espírito Santo (ES)           6271\n",
       "Mato Grosso do Sul (MS)       4957\n",
       "Sergipe (SE)                  4841\n",
       "Alagoas (AL)                  4763\n",
       "Tocantins (TO)                3896\n",
       "Rondônia (RO)                 3405\n",
       "Amapa (AP)                    1772\n",
       "Acre (AC)                     1628\n",
       "Roraima (RR)                   820\n",
       "Name: DESC_UF, dtype: int64"
      ]
     },
     "execution_count": 47,
     "metadata": {},
     "output_type": "execute_result"
    }
   ],
   "source": [
    "enade['DESC_UF'].value_counts()"
   ]
  },
  {
   "cell_type": "code",
   "execution_count": 48,
   "metadata": {},
   "outputs": [],
   "source": [
    "# Transformar turno graduação\n",
    "enade['CO_TURNO_GRADUACAO'] = enade['CO_TURNO_GRADUACAO'].replace({\n",
    "    1:'Matutino',\n",
    "    2:'Vespertino',\n",
    "    3:'Integral',\n",
    "    4:'Noturno',\n",
    "    '':'Não Informado'\n",
    "})"
   ]
  },
  {
   "cell_type": "code",
   "execution_count": 49,
   "metadata": {},
   "outputs": [],
   "source": [
    "#Estado Civil\n",
    "enade['DESC_ESTADO_CIVIL'] = enade.QE_I01.replace({\n",
    "    'A' : 'Solteiro(a)',\n",
    "    'B' : 'Casado(a)',\n",
    "    'C' : 'Separado(a) judicialmente/divorciado(a)',\n",
    "    'D' : 'Viúvo(a)',\n",
    "    'E' : 'Outro',\n",
    "    '':'Não Informado'\n",
    "})"
   ]
  },
  {
   "cell_type": "code",
   "execution_count": 50,
   "metadata": {},
   "outputs": [],
   "source": [
    "# Nacionalidade\n",
    "enade['DESC_NACIONALIDADE'] = enade.QE_I03.replace({\n",
    "    'A' : 'Brasileira',\n",
    "    'B' : 'Brasileira naturalizada',\n",
    "    'C' : 'Estrangeira',\n",
    "    '':'Não Informado'\n",
    "})"
   ]
  },
  {
   "cell_type": "code",
   "execution_count": 51,
   "metadata": {},
   "outputs": [],
   "source": [
    "#Escolaridade PAI\n",
    "enade['DESC_ESCOLARIDADE_PAI'] = enade.QE_I04.replace({\n",
    "    'A' : 'Nenhuma',\n",
    "    'B' : 'Ensino Fundamental: 1º ao 5º ano (1ª a 4ª série)',\n",
    "    'C' : 'Ensino Fundamental: 6º ao 9º ano (5ª a 8ª série)',\n",
    "    'D' : 'Ensino Médio',\n",
    "    'E' : 'Ensino Superior - Graduação',\n",
    "    'F' : 'Pós-graduação',\n",
    "    '':'Não Informado'\n",
    "})"
   ]
  },
  {
   "cell_type": "code",
   "execution_count": 52,
   "metadata": {},
   "outputs": [],
   "source": [
    "#Escolaridade MAE\n",
    "enade['DESC_ESCOLARIDADE_MAE'] = enade.QE_I05.replace({\n",
    "    'A' : 'Nenhuma',\n",
    "    'B' : 'Ensino Fundamental: 1º ao 5º ano (1ª a 4ª série)',\n",
    "    'C' : 'Ensino Fundamental: 6º ao 9º ano (5ª a 8ª série)',\n",
    "    'D' : 'Ensino Médio',\n",
    "    'E' : 'Ensino Superior - Graduação',\n",
    "    'F' : 'Pós-graduação',\n",
    "    '':'Não Informado'\n",
    "})"
   ]
  },
  {
   "cell_type": "code",
   "execution_count": 53,
   "metadata": {},
   "outputs": [],
   "source": [
    "#Renda Família\n",
    "enade['DESC_RENDA'] = enade.QE_I08.replace({\n",
    "    'A' : 'Até 1,5 salário mínimo (até R$ 1,431,00)',\n",
    "    'B' : 'De 1,5 a 3 salários mínimos (R$ 1,431,01 a R$ 2,862,00)',\n",
    "    'C' : 'De 3 a 4,5 salários mínimos (R$ 2,862,01 a R$ 4,293,00)',\n",
    "    'D' : 'De 4,5 a 6 salários mínimos (R$ 4,293,01 a R$ 5,724,00)',\n",
    "    'E' : 'De 6 a 10 salários mínimos (R$ 5,724,01 a R$ 9,540,00)',\n",
    "    'F' : 'De 10 a 30 salários mínimos (R$ 9,540,01 a R$ 28,620,00)',\n",
    "    'G' : 'Acima de 30 salários mínimos (mais de R$ 28,620,00)',\n",
    "    '':'Não Informado'\n",
    "})"
   ]
  },
  {
   "cell_type": "code",
   "execution_count": 54,
   "metadata": {},
   "outputs": [],
   "source": [
    "# Ensino Médio\n",
    "enade['DESC_CONCLUSAO_EM'] = enade.QE_I17.replace({\n",
    "    'A' : 'Todo em escola pública',\n",
    "    'B' : 'Todo em escola privada (particular)',\n",
    "    'C' : 'Todo no exterior',\n",
    "    'D' : 'A maior parte em escola pública',\n",
    "    'E' : 'A maior parte em escola privada (particular)',\n",
    "    'F' : 'Parte no Brasil e parte no exterior',\n",
    "    '':'Não Informado'\n",
    "})"
   ]
  },
  {
   "cell_type": "code",
   "execution_count": 67,
   "metadata": {},
   "outputs": [],
   "source": [
    "# Escolha do curso\n",
    "enade['DESC_MOTIVO'] = enade.QE_I25.replace({\n",
    "    'A' : 'Inserção no mercado de trabalho',\n",
    "    'B' : 'Influência familiar',\n",
    "    'C' : 'Valorização profissional',\n",
    "    'D' : 'Prestígio Social',\n",
    "    'E' : 'Vocação',\n",
    "    'F' : 'Oferecido na modalidade a distância',\n",
    "    'G' : 'Baixa concorrência para ingresso',\n",
    "    'H' : 'Outro motivo',\n",
    "    '':'Não Informado'\n",
    "})"
   ]
  },
  {
   "cell_type": "code",
   "execution_count": 68,
   "metadata": {},
   "outputs": [
    {
     "data": {
      "text/plain": [
       "0                                 Vocação\n",
       "1                                 Vocação\n",
       "2                     Influência familiar\n",
       "3                Valorização profissional\n",
       "4                                        \n",
       "                       ...               \n",
       "433925    Inserção no mercado de trabalho\n",
       "433926                            Vocação\n",
       "433927           Valorização profissional\n",
       "433928    Inserção no mercado de trabalho\n",
       "433929    Inserção no mercado de trabalho\n",
       "Name: DESC_MOTIVO, Length: 433930, dtype: object"
      ]
     },
     "execution_count": 68,
     "metadata": {},
     "output_type": "execute_result"
    }
   ],
   "source": [
    "enade['DESC_MOTIVO']"
   ]
  },
  {
   "cell_type": "markdown",
   "metadata": {},
   "source": [
    "# Criar novo arquivo CSV"
   ]
  },
  {
   "cell_type": "code",
   "execution_count": 74,
   "metadata": {},
   "outputs": [],
   "source": [
    "enade.to_csv('./enade2019/microdados_enade_2019/2019/3.DADOS/microdados_enade_2019_transformados.csv',index=False,sep=';',decimal=',')"
   ]
  }
 ],
 "metadata": {
  "kernelspec": {
   "display_name": "Python 3",
   "language": "python",
   "name": "python3"
  },
  "language_info": {
   "codemirror_mode": {
    "name": "ipython",
    "version": 3
   },
   "file_extension": ".py",
   "mimetype": "text/x-python",
   "name": "python",
   "nbconvert_exporter": "python",
   "pygments_lexer": "ipython3",
   "version": "3.8.8"
  }
 },
 "nbformat": 4,
 "nbformat_minor": 4
}
